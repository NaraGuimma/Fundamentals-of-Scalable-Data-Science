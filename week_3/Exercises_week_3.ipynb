{
  "nbformat": 4,
  "nbformat_minor": 0,
  "metadata": {
    "colab": {
      "name": "Untitled3.ipynb",
      "provenance": []
    },
    "kernelspec": {
      "name": "python3",
      "display_name": "Python 3"
    }
  },
  "cells": [
    {
      "cell_type": "code",
      "metadata": {
        "id": "OzuKYA3SPg8G"
      },
      "source": [
        "import math\n",
        "import matplotlib.pyplot as plt\n"
      ],
      "execution_count": 26,
      "outputs": []
    },
    {
      "cell_type": "code",
      "metadata": {
        "id": "zeHWYZkWP5xv"
      },
      "source": [
        "lista = [1,2,4,5,34,1,32,4,34,2,1,3]"
      ],
      "execution_count": 8,
      "outputs": []
    },
    {
      "cell_type": "code",
      "metadata": {
        "id": "3e4oUy0jP-hd"
      },
      "source": [
        "n = len(lista)"
      ],
      "execution_count": 11,
      "outputs": []
    },
    {
      "cell_type": "code",
      "metadata": {
        "id": "kWv9cVHLQBK4",
        "outputId": "ee5dd5c1-c6fa-460f-f06f-c85026061c07",
        "colab": {
          "base_uri": "https://localhost:8080/"
        }
      },
      "source": [
        "print(n)"
      ],
      "execution_count": 12,
      "outputs": [
        {
          "output_type": "stream",
          "text": [
            "12\n"
          ],
          "name": "stdout"
        }
      ]
    },
    {
      "cell_type": "code",
      "metadata": {
        "id": "SAzLTdvNQHxd",
        "outputId": "94bd1041-04f7-4d54-cb5d-cc228db648d7",
        "colab": {
          "base_uri": "https://localhost:8080/"
        }
      },
      "source": [
        "sum = 0\n",
        "for i in range(len(lista)):\n",
        "  sum += list[i]\n",
        "print(sum)  "
      ],
      "execution_count": 13,
      "outputs": [
        {
          "output_type": "stream",
          "text": [
            "123\n"
          ],
          "name": "stdout"
        }
      ]
    },
    {
      "cell_type": "code",
      "metadata": {
        "id": "Oyw9CHZeQz1q"
      },
      "source": [
        "mean = sum / n"
      ],
      "execution_count": 14,
      "outputs": []
    },
    {
      "cell_type": "code",
      "metadata": {
        "id": "I33UALLDQ2x-",
        "outputId": "34c8aa08-3f55-4a81-d4a9-0ddfa8bb38b0",
        "colab": {
          "base_uri": "https://localhost:8080/"
        }
      },
      "source": [
        "print(mean)"
      ],
      "execution_count": 15,
      "outputs": [
        {
          "output_type": "stream",
          "text": [
            "10.25\n"
          ],
          "name": "stdout"
        }
      ]
    },
    {
      "cell_type": "code",
      "metadata": {
        "id": "Gjfu2yoYQ4Zn",
        "outputId": "c2963bf7-581a-4d0c-a2f2-3c7bf310e096",
        "colab": {
          "base_uri": "https://localhost:8080/"
        }
      },
      "source": [
        "lista = sorted(lista)  \n",
        "print(lista)"
      ],
      "execution_count": 23,
      "outputs": [
        {
          "output_type": "stream",
          "text": [
            "[1, 1, 1, 2, 2, 3, 4, 4, 5, 32, 34, 34]\n"
          ],
          "name": "stdout"
        }
      ]
    },
    {
      "cell_type": "code",
      "metadata": {
        "id": "AsV1y73OSXwU",
        "outputId": "d85e05b5-4b97-4e17-ca5f-ba631c668d0d",
        "colab": {
          "base_uri": "https://localhost:8080/"
        }
      },
      "source": [
        "index1 = (n/2) - 1\n",
        "index2 = n/2\n",
        "median = (lista[int(index1)] + lista[int(index2)])/2\n",
        "print(median)"
      ],
      "execution_count": 25,
      "outputs": [
        {
          "output_type": "stream",
          "text": [
            "3.5\n"
          ],
          "name": "stdout"
        }
      ]
    },
    {
      "cell_type": "code",
      "metadata": {
        "id": "r9GHHTmpVmAQ",
        "outputId": "28732ab2-0e96-42b1-9be2-e102e240164b",
        "colab": {
          "base_uri": "https://localhost:8080/",
          "height": 265
        }
      },
      "source": [
        "plt.hist(lista);"
      ],
      "execution_count": 31,
      "outputs": [
        {
          "output_type": "display_data",
          "data": {
            "image/png": "[encoded data removed]",
            "text/plain": [
              "<Figure size 432x288 with 1 Axes>"
            ]
          },
          "metadata": {
            "tags": [],
            "needs_background": "light"
          }
        }
      ]
    },
    {
      "cell_type": "code",
      "metadata": {
        "id": "IyYg9kHOWF8Z",
        "outputId": "dd16a57e-0491-4fd1-9338-573062b63892",
        "colab": {
          "base_uri": "https://localhost:8080/"
        }
      },
      "source": [
        "new_list = [34,1,23,4,3,3,12,4,3,1]\n",
        "n = len(new_list)\n",
        "print(n)"
      ],
      "execution_count": 42,
      "outputs": [
        {
          "output_type": "stream",
          "text": [
            "10\n"
          ],
          "name": "stdout"
        }
      ]
    },
    {
      "cell_type": "code",
      "metadata": {
        "id": "O1G3n4xuW9x8",
        "outputId": "c8e603fd-5c66-4cc1-faab-c306bc39860b",
        "colab": {
          "base_uri": "https://localhost:8080/"
        }
      },
      "source": [
        "sum = 0\n",
        "for i in range(len(new_list)):\n",
        "  sum += new_list[i]\n",
        "print(sum)  "
      ],
      "execution_count": 43,
      "outputs": [
        {
          "output_type": "stream",
          "text": [
            "88\n"
          ],
          "name": "stdout"
        }
      ]
    },
    {
      "cell_type": "code",
      "metadata": {
        "id": "VV_uw_0rXIGT",
        "outputId": "77cd9962-8ce8-47a9-c28f-c41a5ac5679f",
        "colab": {
          "base_uri": "https://localhost:8080/"
        }
      },
      "source": [
        "mean = sum/n\n",
        "print(mean)"
      ],
      "execution_count": 44,
      "outputs": [
        {
          "output_type": "stream",
          "text": [
            "8.8\n"
          ],
          "name": "stdout"
        }
      ]
    },
    {
      "cell_type": "code",
      "metadata": {
        "id": "TdFXbx56Xa9j"
      },
      "source": [
        "std_dev = 0\n",
        "for i in range(len(new_list)):\n",
        "  std_dev += ((new_list[i] - mean)**2)\n",
        "var = math.sqrt(std_dev/n)  "
      ],
      "execution_count": 45,
      "outputs": []
    },
    {
      "cell_type": "code",
      "metadata": {
        "id": "ZwvpRUhUYFAY",
        "outputId": "bb592c8a-a199-4837-be61-def30835a182",
        "colab": {
          "base_uri": "https://localhost:8080/"
        }
      },
      "source": [
        "print(var)"
      ],
      "execution_count": 46,
      "outputs": [
        {
          "output_type": "stream",
          "text": [
            "10.562196741208714\n"
          ],
          "name": "stdout"
        }
      ]
    },
    {
      "cell_type": "code",
      "metadata": {
        "id": "rTryzHiLYTj1",
        "outputId": "655fb6f5-e5ea-4d63-90d7-f10dd0d2e080",
        "colab": {
          "base_uri": "https://localhost:8080/"
        }
      },
      "source": [
        "kut = 0\n",
        "for i in range(len(new_list)):\n",
        "  kut += (new_list[i] - mean)**4\n",
        "tot_kut = kut/(var**4)/n\n",
        "print(tot_kut)  "
      ],
      "execution_count": 48,
      "outputs": [
        {
          "output_type": "stream",
          "text": [
            "3.663124005193275\n"
          ],
          "name": "stdout"
        }
      ]
    },
    {
      "cell_type": "code",
      "metadata": {
        "id": "kKFh_MVxdftB",
        "outputId": "9b5849b1-9aec-4238-c714-7a3984bbe7cf",
        "colab": {
          "base_uri": "https://localhost:8080/"
        }
      },
      "source": [
        "kut = 0\n",
        "for i in range(len(new_list)):\n",
        "  kut += (new_list[i] - mean)**4/(var**4)\n",
        "tot_kut = kut/n\n",
        "print(tot_kut)  "
      ],
      "execution_count": 49,
      "outputs": [
        {
          "output_type": "stream",
          "text": [
            "3.663124005193276\n"
          ],
          "name": "stdout"
        }
      ]
    },
    {
      "cell_type": "code",
      "metadata": {
        "id": "g1GKCGNXdrEE",
        "outputId": "0149f6a6-3b72-4649-f347-56a27a976bcc",
        "colab": {
          "base_uri": "https://localhost:8080/"
        }
      },
      "source": [
        "ske = 0\n",
        "for i in range(len(new_list)):\n",
        "  ske += (new_list[i] - mean)**3\n",
        "tot_ske = ske/(var**3)/n\n",
        "print(tot_ske)  "
      ],
      "execution_count": 51,
      "outputs": [
        {
          "output_type": "stream",
          "text": [
            "1.4549069329913997\n"
          ],
          "name": "stdout"
        }
      ]
    },
    {
      "cell_type": "code",
      "metadata": {
        "id": "zl52_7lqfEh1",
        "outputId": "2c4e99d5-9429-4951-b352-f6a405e1f1e9",
        "colab": {
          "base_uri": "https://localhost:8080/"
        }
      },
      "source": [
        "ske = 0\n",
        "for i in range(len(new_list)):\n",
        "  ske += (new_list[i] - mean)**3/(var**3)\n",
        "tot_skt = ske/n\n",
        "print(tot_skt)  "
      ],
      "execution_count": 53,
      "outputs": [
        {
          "output_type": "stream",
          "text": [
            "1.4549069329914\n"
          ],
          "name": "stdout"
        }
      ]
    },
    {
      "cell_type": "code",
      "metadata": {
        "id": "mcxd6YJSfQct"
      },
      "source": [
        "import pandas as pd\n",
        "import math\n",
        "import numpy as np\n",
        "import seaborn as sn\n",
        "import matplotlib.pyplot as plt\n",
        "from scipy.stats import pearsonr"
      ],
      "execution_count": 77,
      "outputs": []
    },
    {
      "cell_type": "code",
      "metadata": {
        "id": "aCxwJJf2u1ty"
      },
      "source": [
        "data = {'x' : [1,2,3,4,5,6,7,8,9,10],\n",
        "        'y' : [7,6,5,4,5,6,7,8,9,10]\n",
        "        }"
      ],
      "execution_count": 78,
      "outputs": []
    },
    {
      "cell_type": "code",
      "metadata": {
        "id": "poognFVwu-5N",
        "outputId": "5fa56ee3-020c-48f3-80f4-fe1ad8caa9db",
        "colab": {
          "base_uri": "https://localhost:8080/",
          "height": 269
        }
      },
      "source": [
        "df = pd.DataFrame(data,columns=['x','y'])\n",
        "\n",
        "corrMatrix = df.corr()\n",
        "sn.heatmap(corrMatrix, annot=True)\n",
        "plt.show()"
      ],
      "execution_count": 79,
      "outputs": [
        {
          "output_type": "display_data",
          "data": {
            "image/png": "[encoded data removed]",
            "text/plain": [
              "<Figure size 432x288 with 2 Axes>"
            ]
          },
          "metadata": {
            "tags": [],
            "needs_background": "light"
          }
        }
      ]
    },
    {
      "cell_type": "code",
      "metadata": {
        "id": "IeioNk_OzXET",
        "outputId": "b5421aa5-d80e-466b-e58b-8706e4a43b3c",
        "colab": {
          "base_uri": "https://localhost:8080/"
        }
      },
      "source": [
        "dataNpy = pd.DataFrame.to_numpy(df)\n",
        "mean = np.mean(dataNpy, axis=0)\n",
        "dataAWithoutMean = dataNpy - mean\n",
        "covB = np.cov(dataAWithoutMean)\n",
        "\n",
        "print(\"cov is: \" + str(covB))"
      ],
      "execution_count": 81,
      "outputs": [
        {
          "output_type": "stream",
          "text": [
            "cov is: [[11.52  6.72  1.92 -2.88 -2.88 -2.88 -2.88 -2.88 -2.88 -2.88]\n",
            " [ 6.72  3.92  1.12 -1.68 -1.68 -1.68 -1.68 -1.68 -1.68 -1.68]\n",
            " [ 1.92  1.12  0.32 -0.48 -0.48 -0.48 -0.48 -0.48 -0.48 -0.48]\n",
            " [-2.88 -1.68 -0.48  0.72  0.72  0.72  0.72  0.72  0.72  0.72]\n",
            " [-2.88 -1.68 -0.48  0.72  0.72  0.72  0.72  0.72  0.72  0.72]\n",
            " [-2.88 -1.68 -0.48  0.72  0.72  0.72  0.72  0.72  0.72  0.72]\n",
            " [-2.88 -1.68 -0.48  0.72  0.72  0.72  0.72  0.72  0.72  0.72]\n",
            " [-2.88 -1.68 -0.48  0.72  0.72  0.72  0.72  0.72  0.72  0.72]\n",
            " [-2.88 -1.68 -0.48  0.72  0.72  0.72  0.72  0.72  0.72  0.72]\n",
            " [-2.88 -1.68 -0.48  0.72  0.72  0.72  0.72  0.72  0.72  0.72]]\n"
          ],
          "name": "stdout"
        }
      ]
    },
    {
      "cell_type": "code",
      "metadata": {
        "id": "BR9w_dOhxvxu",
        "outputId": "61debc2a-3d22-49de-b656-f7187cb960d9",
        "colab": {
          "base_uri": "https://localhost:8080/"
        }
      },
      "source": [
        "print(df.cov())"
      ],
      "execution_count": 71,
      "outputs": [
        {
          "output_type": "stream",
          "text": [
            "          x         y\n",
            "x  9.166667  4.055556\n",
            "y  4.055556  3.566667\n"
          ],
          "name": "stdout"
        }
      ]
    },
    {
      "cell_type": "code",
      "metadata": {
        "id": "7bXlNilsvkgu"
      },
      "source": [
        "x = [1,2,3,4,5,6,7,8,9,10]\n",
        "y = [7,6,5,4,5,6,7,8,9,10]\n",
        "correlation, p_value = pearsonr(x, y)"
      ],
      "execution_count": 72,
      "outputs": []
    },
    {
      "cell_type": "code",
      "metadata": {
        "id": "C8eBkuakwdle",
        "outputId": "d6f369c4-bb65-4b48-c3cf-cc898e4acb29",
        "colab": {
          "base_uri": "https://localhost:8080/"
        }
      },
      "source": [
        "print(correlation)"
      ],
      "execution_count": 73,
      "outputs": [
        {
          "output_type": "stream",
          "text": [
            "0.709272912083725\n"
          ],
          "name": "stdout"
        }
      ]
    },
    {
      "cell_type": "code",
      "metadata": {
        "id": "icmg5WzJw4Kx",
        "outputId": "59383c5e-5f20-4e94-ba3a-bb5427e74afa",
        "colab": {
          "base_uri": "https://localhost:8080/"
        }
      },
      "source": [
        "print(p_value)"
      ],
      "execution_count": 74,
      "outputs": [
        {
          "output_type": "stream",
          "text": [
            "0.02161702934962524\n"
          ],
          "name": "stdout"
        }
      ]
    },
    {
      "cell_type": "code",
      "metadata": {
        "id": "ZhCKsiktw6mD",
        "outputId": "7de574fb-4fbb-4f30-9dba-c2c3e27315b5",
        "colab": {
          "base_uri": "https://localhost:8080/"
        }
      },
      "source": [
        "n = len(x)\n",
        "meanX = 0\n",
        "meanY = 0\n",
        "for i in range(len(x)):\n",
        "  meanX +=  x[i]\n",
        "  meanY +=  y[i]\n",
        "tot_meanX = meanX/n\n",
        "tot_meanY = meanY/n\n",
        "print(tot_meanX, tot_meanY)"
      ],
      "execution_count": 82,
      "outputs": [
        {
          "output_type": "stream",
          "text": [
            "5.5 6.7\n"
          ],
          "name": "stdout"
        }
      ]
    },
    {
      "cell_type": "code",
      "metadata": {
        "id": "X_c8l5-4ygye",
        "outputId": "0987cca7-b634-425e-cf81-85d676948b18",
        "colab": {
          "base_uri": "https://localhost:8080/"
        }
      },
      "source": [
        "cov = 0\n",
        "for i in range(len(x)):\n",
        "  cov += (x[i] - tot_meanX)*(y[i] - tot_meanY)\n",
        "\n",
        "tot_cov = cov / float(n)\n",
        "print(tot_cov)"
      ],
      "execution_count": 83,
      "outputs": [
        {
          "output_type": "stream",
          "text": [
            "3.65\n"
          ],
          "name": "stdout"
        }
      ]
    },
    {
      "cell_type": "code",
      "metadata": {
        "id": "WgWdRDKHy5TV"
      },
      "source": [
        ""
      ],
      "execution_count": null,
      "outputs": []
    }
  ]
}